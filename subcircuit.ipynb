{
 "cells": [
  {
   "cell_type": "markdown",
   "metadata": {},
   "source": [
    "How to Use SubCircuit\n",
    "=====================\n",
    "\n",
    "This example shows how to use subcircuits.\n"
   ]
  },
  {
   "cell_type": "code",
   "execution_count": null,
   "metadata": {},
   "outputs": [],
   "source": [
    "\n",
    "\n",
    "import PySpice.Logging.Logging as Logging\n",
    "logger = Logging.setup_logging()\n",
    "\n",
    "\n",
    "from PySpice.Spice.Netlist import Circuit, SubCircuit, SubCircuitFactory\n",
    "from PySpice.Unit import *\n",
    "\n",
    "\n"
   ]
  },
  {
   "cell_type": "markdown",
   "metadata": {},
   "source": [
    "There is two ways to define subcircuit with PySpice, either using\n",
    "`PySpice.Spice.Netlist.SubCircuit`{.interpreted-text role=\"class\"} or a\n",
    "simpler alternative\n",
    "`PySpice.Spice.Netlist.SubCircuitFactory`{.interpreted-text\n",
    "role=\"class\"}.\n",
    "\n",
    "Let define a parallel resistor subcircuit using the\n",
    "`PySpice.Spice.Netlist.SubCircuitFactory`{.interpreted-text\n",
    "role=\"class\"}\n"
   ]
  },
  {
   "cell_type": "code",
   "execution_count": null,
   "metadata": {},
   "outputs": [],
   "source": [
    "\n",
    "class ParallelResistor(SubCircuitFactory):\n",
    "    __name__ = 'parallel_resistor'\n",
    "    __nodes__ = ('n1', 'n2')\n",
    "    def __init__(self, R1=1@u_Ω, R2=2@u_Ω):\n",
    "        super().__init__()\n",
    "        self.R(1, 'n1', 'n2', R1)\n",
    "        self.R(2, 'n1', 'n2', R2)\n",
    "\n"
   ]
  },
  {
   "cell_type": "markdown",
   "metadata": {},
   "source": [
    "Let define a circuit\n"
   ]
  },
  {
   "cell_type": "code",
   "execution_count": null,
   "metadata": {},
   "outputs": [],
   "source": [
    "\n",
    "circuit = Circuit('Test')\n",
    "\n"
   ]
  },
  {
   "cell_type": "markdown",
   "metadata": {},
   "source": [
    "then we can use this subcircuit like this\n"
   ]
  },
  {
   "cell_type": "code",
   "execution_count": null,
   "metadata": {},
   "outputs": [
    {
     "name": "stdout",
     "output_type": "stream",
     "text": [
      ".title Test\n",
      ".subckt parallel_resistor n1 n2\n",
      "R1 n1 n2 1Ohm\n",
      "R2 n1 n2 3Ohm\n",
      ".ends parallel_resistor\n",
      "X1 1 0 parallel_resistor\n",
      "\n"
     ]
    }
   ],
   "source": [
    "\n",
    "circuit.subcircuit(ParallelResistor(R2=3@u_Ω))\n",
    "circuit.X('1', 'parallel_resistor', 1, circuit.gnd)\n",
    "\n",
    "print(circuit)\n"
   ]
  },
  {
   "cell_type": "markdown",
   "metadata": {},
   "source": [
    "If the above way is not suited for your purpose we can use this second\n",
    "approach\n"
   ]
  },
  {
   "cell_type": "code",
   "execution_count": null,
   "metadata": {},
   "outputs": [
    {
     "name": "stdout",
     "output_type": "stream",
     "text": [
      ".title Test\n",
      ".subckt pr1 n1 n2\n",
      "R1 n1 n2 1Ohm\n",
      "R2 n1 n2 2Ohm\n",
      ".ends pr1\n",
      "\n",
      ".subckt pr2 n1 n2\n",
      "R1 n1 n2 1Ohm\n",
      "R2 n1 n2 3Ohm\n",
      ".ends pr2\n",
      "X1 1 0 pr1\n",
      "X2 1 0 pr2\n",
      "\n"
     ]
    }
   ],
   "source": [
    "\n",
    "class ParallelResistor2(SubCircuit):\n",
    "    __nodes__ = ('n1', 'n2')\n",
    "    def __init__(self, name, R1=1@u_Ω, R2=2@u_Ω):\n",
    "        SubCircuit.__init__(self, name, *self.__nodes__)\n",
    "        self.R(1, 'n1', 'n2', R1)\n",
    "        self.R(2, 'n1', 'n2', R2)\n",
    "\n",
    "circuit = Circuit('Test')\n",
    "circuit.subcircuit(ParallelResistor2('pr1', R2=2@u_Ω))\n",
    "circuit.X('1', 'pr1', 1, circuit.gnd)\n",
    "circuit.subcircuit(ParallelResistor2('pr2', R2=3@u_Ω))\n",
    "circuit.X('2', 'pr2', 1, circuit.gnd)\n",
    "\n",
    "print(circuit)\n"
   ]
  }
 ],
 "metadata": {
  "kernelspec": {
   "display_name": "Python 3 (ipykernel)",
   "language": "python",
   "name": "python3"
  },
  "language_info": {
   "codemirror_mode": {
    "name": "ipython",
    "version": 3
   },
   "file_extension": ".py",
   "mimetype": "text/x-python",
   "name": "python",
   "nbconvert_exporter": "python",
   "pygments_lexer": "ipython3",
   "version": "3.8.20"
  }
 },
 "nbformat": 4,
 "nbformat_minor": 4
}
