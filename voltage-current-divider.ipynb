{
 "cells": [
  {
   "cell_type": "markdown",
   "metadata": {},
   "source": [
    "Voltage and Current Divider\n",
    "===========================\n",
    "\n",
    "This circuit is a fundamental block in electronic that permits to scale\n",
    "a voltage by an impedance ratio:\n"
   ]
  },
  {
   "attachments": {
    "voltage-divider.png": {
     "image/png": "[encoded data removed]"
    }
   },
   "cell_type": "markdown",
   "metadata": {},
   "source": [
    "![voltage-divider.png](attachment:voltage-divider.png)"
   ]
  },
  {
   "cell_type": "markdown",
   "metadata": {},
   "source": [
    "The relation between the input and ouput voltage is:\n",
    "\n",
    "$$\\frac{V_{out}}{V_{in}} = \\frac{R_2}{R_1 + R_2}$$\n",
    "\n",
    "This equation holds for any impedances like resistance, capacitance,\n",
    "inductance, etc.\n"
   ]
  },
  {
   "cell_type": "code",
   "execution_count": 16,
   "metadata": {},
   "outputs": [
    {
     "name": "stdout",
     "output_type": "stream",
     "text": [
      "Node 2: 10.00 V\n",
      "Node 1: 20.00 V\n",
      ".title Voltage Divider\n",
      "Vinput 1 0 20V\n",
      "R1 1 2 2kOhm\n",
      "R2 2 0 2kOhm\n",
      "\n"
     ]
    }
   ],
   "source": [
    "import PySpice.Logging.Logging as Logging\n",
    "logger = Logging.setup_logging()\n",
    "\n",
    "from PySpice.Spice.Netlist import Circuit\n",
    "from PySpice.Unit import *\n",
    "\n",
    "circuit = Circuit('Voltage Divider')\n",
    "\n",
    "circuit.V('input', 1, circuit.gnd, 20@u_V)\n",
    "circuit.R(1, 1, 2, 2@u_kΩ)\n",
    "circuit.R(2, 2, circuit.gnd, 2@u_kΩ)\n",
    "\n",
    "simulator = circuit.simulator(temperature=25, nominal_temperature=25)\n",
    "analysis = simulator.operating_point()\n",
    "\n",
    "for node in analysis.nodes.values():\n",
    "    print('Node {}: {:5.2f} V'.format(str(node), float(node))) # Fixme: format value + unit\n",
    "\n",
    "print(circuit)\n"
   ]
  },
  {
   "cell_type": "markdown",
   "metadata": {},
   "source": [
    "Similarly we can build a circuit that scale a current by an impedance\n",
    "ratio:\n"
   ]
  },
  {
   "attachments": {
    "current-divider.png": {
     "image/png": "[encoded data removed]"
    }
   },
   "cell_type": "markdown",
   "metadata": {},
   "source": [
    "![current-divider.png](attachment:current-divider.png)"
   ]
  },
  {
   "cell_type": "markdown",
   "metadata": {},
   "source": [
    "The relation between the input and ouput current is:\n",
    "\n",
    "$$\\frac{I_{out}}{I_{in}} = \\frac{R_1}{R_1 + R_2}$$\n",
    "\n",
    "Note the role of R1 and R2 is exchanged.\n",
    "\n",
    "This equation holds for any impedances like resistance, capacitance,\n",
    "inductance, etc.\n"
   ]
  },
  {
   "cell_type": "code",
   "execution_count": 21,
   "metadata": {},
   "outputs": [
    {
     "name": "stdout",
     "output_type": "stream",
     "text": [
      ".title Current Divider\n",
      "Iinput 1 0 1A\n",
      "R1 1 0 2kOhm\n",
      "R2 1 0 1kOhm\n",
      "\n",
      ".title Current Divider\n",
      "Iinput 1 0 1A\n",
      "R1 1 R1_minus 2kOhm\n",
      "R2 1 R2_minus 1kOhm\n",
      "VR1_minus 0 R1_minus 0\n",
      "VR2_minus 0 R2_minus 0\n",
      "\n",
      "Node vr1_minus:  0.00 A\n",
      "Node vr2_minus:  0.00 A\n"
     ]
    }
   ],
   "source": [
    "circuit = Circuit('Current Divider')\n",
    "\n",
    "circuit.I('input', 1, circuit.gnd, 1@u_A) # Fixme: current value\n",
    "circuit.R(1, 1, circuit.gnd, 2@u_kΩ)\n",
    "circuit.R(2, 1, circuit.gnd, 1@u_kΩ)\n",
    "\n",
    "print(circuit)\n",
    "\n",
    "for resistance in (circuit.R1, circuit.R2):\n",
    "    resistance.minus.add_current_probe(circuit) # to get positive value\n",
    "\n",
    "print(circuit)\n",
    "\n",
    "simulator = circuit.simulator(temperature=25, nominal_temperature=25)\n",
    "analysis = simulator.operating_point()\n",
    "\n",
    "# Fixme: current over resistor\n",
    "for node in analysis.branches.values():\n",
    "    print('Node {}: {:5.2f} A'.format(str(node), float(node))) # Fixme: format value + unit\n",
    "\n",
    "\n"
   ]
  },
  {
   "cell_type": "code",
   "execution_count": null,
   "metadata": {},
   "outputs": [],
   "source": []
  }
 ],
 "metadata": {
  "kernelspec": {
   "display_name": "Python 3 (ipykernel)",
   "language": "python",
   "name": "python3"
  },
  "language_info": {
   "codemirror_mode": {
    "name": "ipython",
    "version": 3
   },
   "file_extension": ".py",
   "mimetype": "text/x-python",
   "name": "python",
   "nbconvert_exporter": "python",
   "pygments_lexer": "ipython3",
   "version": "3.8.20"
  }
 },
 "nbformat": 4,
 "nbformat_minor": 4
}
